{
 "cells": [
  {
   "cell_type": "markdown",
   "id": "c6098073-5548-4335-b061-6059009f4e4e",
   "metadata": {},
   "source": [
    "* Skecth the Frame ROI (Region of Interest)\n",
    "* This program will open webcam in new window\n",
    "* A first snapshot will webcam will show because just after taking first snapshot/frame it will be destroyed immediately\n",
    "* With mouse create a rectangle in ROI of image and press any key say 'spacebar'\n",
    "* Again second window will open which will show blank sketch of your ROI\n",
    "* Now press 'q' to exit from program or both windows altogether"
   ]
  },
  {
   "cell_type": "code",
   "execution_count": 2,
   "id": "0b8765a2-b153-4d3d-a5cc-f4864995fcea",
   "metadata": {},
   "outputs": [],
   "source": [
    "import cv2\n",
    "import numpy as np\n",
    "from matplotlib import pyplot as plt"
   ]
  },
  {
   "cell_type": "code",
   "execution_count": 3,
   "id": "23321259-d768-4ab9-9c54-0a95a4094dec",
   "metadata": {},
   "outputs": [],
   "source": [
    "def sketch_transform(image):\n",
    "    image_grayscale = cv2.cvtColor(image, cv2.COLOR_BGR2GRAY)\n",
    "    image_grayscale_blurred = cv2.GaussianBlur(image_grayscale, (7,7), 0)\n",
    "    image_canny = cv2.Canny(image_grayscale_blurred, 10, 80)\n",
    "    _, mask = image_canny_inverted = cv2.threshold(image_canny, 30, 255, cv2.THRESH_BINARY_INV)\n",
    "    return mask"
   ]
  },
  {
   "cell_type": "code",
   "execution_count": 5,
   "id": "78ab7ff1-6d9d-48a3-83ee-801b1c89ec7b",
   "metadata": {},
   "outputs": [],
   "source": [
    "cam_capture = cv2.VideoCapture(0)\n",
    "cv2.destroyAllWindows()\n",
    "\n",
    "while True:\n",
    "    _ , im0 = cam_capture.read()\n",
    "    showCrosshair = False\n",
    "    fromCenter = False\n",
    "    r = cv2.selectROI('Image', im0, fromCenter, showCrosshair)\n",
    "    break\n",
    "    \n",
    "while True:   \n",
    "    _ , image_frame = cam_capture.read()\n",
    "    \n",
    "    rect_img = image_frame[int(r[1]):int(r[1]+r[3]), int(r[0]):int(r[0]+r[2])]\n",
    "    \n",
    "    sketcher_rect = rect_img\n",
    "    sketcher_rect = sketch_transform(sketcher_rect)\n",
    "    \n",
    "    sketcher_rect_rgb = cv2.cvtColor(sketcher_rect, cv2.COLOR_GRAY2RGB)\n",
    "    \n",
    "    image_frame[int(r[1]):int(r[1]+r[3]), int(r[0]):int(r[0]+r[2])] = sketcher_rect_rgb\n",
    "    \n",
    "    cv2.imshow('Sketcher ROI', image_frame)\n",
    "    \n",
    "    if cv2.waitKey(1) & 0xFF == ord('q'):\n",
    "        break\n",
    "        \n",
    "cam_capture.release()\n",
    "cv2.destroyAllWindows()"
   ]
  },
  {
   "cell_type": "code",
   "execution_count": 6,
   "id": "76c652af-39fe-471a-b758-0394268e1a47",
   "metadata": {},
   "outputs": [],
   "source": [
    "import cv2\n",
    "import numpy as np\n",
    "\n",
    "def sketch_transform(image):\n",
    "    # Convert to grayscale\n",
    "    image_grayscale = cv2.cvtColor(image, cv2.COLOR_BGR2GRAY)\n",
    "    # Apply Gaussian blur\n",
    "    image_grayscale_blurred = cv2.GaussianBlur(image_grayscale, (7, 7), 0)\n",
    "    # Detect edges\n",
    "    image_canny = cv2.Canny(image_grayscale_blurred, 10, 80)\n",
    "    # Invert edges\n",
    "    _, mask = cv2.threshold(image_canny, 30, 255, cv2.THRESH_BINARY_INV)\n",
    "    return mask\n",
    "\n",
    "# Initialize webcam\n",
    "cam_capture = cv2.VideoCapture(0)\n",
    "\n",
    "if not cam_capture.isOpened():\n",
    "    print(\"Error: Could not access the webcam.\")\n",
    "    exit()\n",
    "\n",
    "cv2.namedWindow(\"Select ROI\")\n",
    "\n",
    "# Capture a frame for ROI selection\n",
    "ret, frame = cam_capture.read()\n",
    "if not ret:\n",
    "    print(\"Error: Could not read frame.\")\n",
    "    cam_capture.release()\n",
    "    exit()\n",
    "\n",
    "# Allow the user to select the ROI\n",
    "r = cv2.selectROI(\"Select ROI\", frame, fromCenter=False, showCrosshair=True)\n",
    "cv2.destroyWindow(\"Select ROI\")\n",
    "\n",
    "while True:\n",
    "    ret, image_frame = cam_capture.read()\n",
    "    if not ret:\n",
    "        print(\"Error: Could not read frame.\")\n",
    "        break\n",
    "\n",
    "    # Extract and process the ROI\n",
    "    rect_img = image_frame[int(r[1]):int(r[1] + r[3]), int(r[0]):int(r[0] + r[2])]\n",
    "    sketcher_rect = sketch_transform(rect_img)\n",
    "    sketcher_rect_rgb = cv2.cvtColor(sketcher_rect, cv2.COLOR_GRAY2BGR)\n",
    "\n",
    "    # Replace the ROI with the processed image\n",
    "    image_frame[int(r[1]):int(r[1] + r[3]), int(r[0]):int(r[0] + r[2])] = sketcher_rect_rgb\n",
    "\n",
    "    # Display the updated frame\n",
    "    cv2.imshow('Sketcher ROI', image_frame)\n",
    "\n",
    "    # Press 'q' to quit\n",
    "    if cv2.waitKey(1) & 0xFF == ord('q'):\n",
    "        break\n",
    "\n",
    "cam_capture.release()\n",
    "cv2.destroyAllWindows()"
   ]
  }
 ],
 "metadata": {
  "kernelspec": {
   "display_name": "tensorflowkernel",
   "language": "python",
   "name": "tensorflowkernel"
  },
  "language_info": {
   "codemirror_mode": {
    "name": "ipython",
    "version": 3
   },
   "file_extension": ".py",
   "mimetype": "text/x-python",
   "name": "python",
   "nbconvert_exporter": "python",
   "pygments_lexer": "ipython3",
   "version": "3.12.4"
  }
 },
 "nbformat": 4,
 "nbformat_minor": 5
}
