{
 "cells": [
  {
   "cell_type": "code",
   "execution_count": 1,
   "id": "d7c4fe25-ff68-4dcb-8ebf-7e2f75d62935",
   "metadata": {},
   "outputs": [],
   "source": [
    "import cv2\n",
    "import numpy as np\n",
    "# from tensorflow.keras.preprocessing import image\n",
    "# import matplotlib.pyplot as plt"
   ]
  },
  {
   "cell_type": "code",
   "execution_count": 2,
   "id": "3282a16d-cbed-41dd-9366-646bafc64e6b",
   "metadata": {},
   "outputs": [],
   "source": [
    "# img = image.load_img('elephant.jpeg')\n",
    "# plt.imshow(img);"
   ]
  },
  {
   "cell_type": "code",
   "execution_count": 3,
   "id": "2ed2da0a-8bae-44de-9145-513540af4407",
   "metadata": {},
   "outputs": [],
   "source": [
    "input = cv2.imread('elephant.jpeg')"
   ]
  },
  {
   "cell_type": "code",
   "execution_count": 4,
   "id": "2cdbd012-9af9-4ff2-b98e-41d448b979b3",
   "metadata": {},
   "outputs": [
    {
     "data": {
      "text/plain": [
       "(750, 1125, 3)"
      ]
     },
     "execution_count": 4,
     "metadata": {},
     "output_type": "execute_result"
    }
   ],
   "source": [
    "input.shape"
   ]
  },
  {
   "cell_type": "code",
   "execution_count": 17,
   "id": "f466356c-4e0e-4ff5-8d4e-84cb6fde087d",
   "metadata": {},
   "outputs": [
    {
     "name": "stdout",
     "output_type": "stream",
     "text": [
      "750\n",
      "1125\n",
      "1125\n",
      "1125\n",
      "3\n",
      "3\n",
      "3\n"
     ]
    }
   ],
   "source": [
    "print(len(input))\n",
    "print(len(input[0]))\n",
    "print(len(input[1]))\n",
    "print(len(input[2]))\n",
    "print(len(input[0][0]))\n",
    "print(len(input[1][0]))\n",
    "print(len(input[2][0]))"
   ]
  },
  {
   "cell_type": "code",
   "execution_count": 5,
   "id": "a1bdac54-b380-415f-93ad-f63ea212d952",
   "metadata": {},
   "outputs": [],
   "source": [
    "cv2.imshow('Test Elephant Image', input)\n",
    "cv2.waitKey()\n",
    "cv2.destroyAllWindows()"
   ]
  },
  {
   "cell_type": "code",
   "execution_count": 6,
   "id": "d0f9eb32-9061-4b87-8157-7d274d3b80e9",
   "metadata": {},
   "outputs": [
    {
     "name": "stdout",
     "output_type": "stream",
     "text": [
      "Height of Image: 750 pixels\n",
      "Width of Image:  1125 pixels\n"
     ]
    }
   ],
   "source": [
    "print('Height of Image:', int(input.shape[0]), 'pixels')\n",
    "print('Width of Image: ', int(input.shape[1]), 'pixels')"
   ]
  },
  {
   "cell_type": "code",
   "execution_count": 7,
   "id": "9cf24830-ca39-466f-9d65-622ee20035a1",
   "metadata": {},
   "outputs": [
    {
     "data": {
      "text/plain": [
       "True"
      ]
     },
     "execution_count": 7,
     "metadata": {},
     "output_type": "execute_result"
    }
   ],
   "source": [
    "cv2.imwrite('output.jpg', input)\n",
    "cv2.imwrite('output.png', input)"
   ]
  }
 ],
 "metadata": {
  "kernelspec": {
   "display_name": "tensorflowkernel",
   "language": "python",
   "name": "tensorflowkernel"
  },
  "language_info": {
   "codemirror_mode": {
    "name": "ipython",
    "version": 3
   },
   "file_extension": ".py",
   "mimetype": "text/x-python",
   "name": "python",
   "nbconvert_exporter": "python",
   "pygments_lexer": "ipython3",
   "version": "3.12.4"
  }
 },
 "nbformat": 4,
 "nbformat_minor": 5
}
